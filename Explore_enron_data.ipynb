{
 "cells": [
  {
   "cell_type": "code",
   "execution_count": 1,
   "metadata": {
    "collapsed": false
   },
   "outputs": [
    {
     "name": "stdout",
     "output_type": "stream",
     "text": [
      "18\n"
     ]
    }
   ],
   "source": [
    "#!/usr/bin/python\n",
    "\n",
    "\"\"\" \n",
    "    Starter code for exploring the Enron dataset (emails + finances);\n",
    "    loads up the dataset (pickled dict of dicts).\n",
    "\n",
    "    The dataset has the form:\n",
    "    enron_data[\"LASTNAME FIRSTNAME MIDDLEINITIAL\"] = { features_dict }\n",
    "\n",
    "    {features_dict} is a dictionary of features associated with that person.\n",
    "    You should explore features_dict as part of the mini-project,\n",
    "    but here's an example to get you started:\n",
    "\n",
    "    enron_data[\"SKILLING JEFFREY K\"][\"bonus\"] = 5600000\n",
    "    \n",
    "\"\"\"\n",
    "\n",
    "import pickle\n",
    "\n",
    "enron_data = pickle.load(open(\"../final_project/final_project_dataset.pkl\", \"r\"))\n",
    "\n",
    "# How many POIs are there in the E+F dataset\n",
    "count = 0\n",
    "for i in range(len(enron_data)):\n",
    "    a = enron_data.values()\n",
    "    if a[i]['poi'] == True:\n",
    "        count = count + 1        \n",
    "print count\n"
   ]
  },
  {
   "cell_type": "code",
   "execution_count": 2,
   "metadata": {
    "collapsed": false
   },
   "outputs": [
    {
     "name": "stdout",
     "output_type": "stream",
     "text": [
      "Number of data points (People) in the dataset = 146\n"
     ]
    }
   ],
   "source": [
    "### how many data points (People) are in the dataset?\n",
    "print \"Number of data points (People) in the dataset = %d\" % len ( enron_data )\n",
    "### print len ( enron_data.keys () )"
   ]
  },
  {
   "cell_type": "code",
   "execution_count": 3,
   "metadata": {
    "collapsed": false
   },
   "outputs": [
    {
     "name": "stdout",
     "output_type": "stream",
     "text": [
      "For each person, how many features are available? = 21\n",
      "{'salary': 365788, 'to_messages': 807, 'deferral_payments': 'NaN', 'total_payments': 1061827, 'exercised_stock_options': 'NaN', 'bonus': 600000, 'restricted_stock': 585062, 'shared_receipt_with_poi': 702, 'restricted_stock_deferred': 'NaN', 'total_stock_value': 585062, 'expenses': 94299, 'loan_advances': 'NaN', 'from_messages': 29, 'other': 1740, 'from_this_person_to_poi': 1, 'poi': False, 'director_fees': 'NaN', 'deferred_income': 'NaN', 'long_term_incentive': 'NaN', 'email_address': 'mark.metts@enron.com', 'from_poi_to_this_person': 38}\n"
     ]
    }
   ],
   "source": [
    "#### For each person, how many features are available?\n",
    "print \"For each person, how many features are available? = %d\" % len(enron_data.values()[0])\n",
    "print enron_data[enron_data.keys()[0]]\n",
    "### print len(enron_data['SKILLING JEFFREY K'])"
   ]
  },
  {
   "cell_type": "code",
   "execution_count": 4,
   "metadata": {
    "collapsed": false
   },
   "outputs": [
    {
     "name": "stdout",
     "output_type": "stream",
     "text": [
      "18\n"
     ]
    }
   ],
   "source": [
    "# How many POIs are there in the E+F dataset\n",
    "count = 0\n",
    "### print range(len(enron_data))\n",
    "for i in range(len(enron_data)):\n",
    "    a = enron_data.values()\n",
    "    if a[i]['poi'] == True:\n",
    "        count = count + 1        \n",
    "print count"
   ]
  },
  {
   "cell_type": "code",
   "execution_count": 5,
   "metadata": {
    "collapsed": false
   },
   "outputs": [
    {
     "name": "stdout",
     "output_type": "stream",
     "text": [
      "35\n"
     ]
    }
   ],
   "source": [
    "%%bash\n",
    "cd ${HOME}/Udacity/Intro_Machine_Learning/ud120-projects/final_project\n",
    "awk '{if(NF==3){print}}' poi_names.txt | wc -l"
   ]
  },
  {
   "cell_type": "code",
   "execution_count": 6,
   "metadata": {
    "collapsed": false
   },
   "outputs": [
    {
     "name": "stdout",
     "output_type": "stream",
     "text": [
      "The total value of the stock belonging to James Prentice = 1095040\n"
     ]
    }
   ],
   "source": [
    "### enron_data[\"LASTNAME FIRSTNAME\"][\"feature_name\"]\n",
    "### enron_data[\"LASTNAME FIRSTNAME MIDDLEINITIAL\"][\"feature_name\"]\n",
    "### What is the total value of the stock belonging to James Prentice?\n",
    "for i in range(len(enron_data)):\n",
    "    ### print enron_data.keys()[i]\n",
    "    if enron_data.keys()[i] == 'PRENTICE JAMES':\n",
    "        total_stock_value = enron_data.values()[i]['total_stock_value']\n",
    "        print \"The total value of the stock belonging to James Prentice = %d\" % total_stock_value"
   ]
  },
  {
   "cell_type": "markdown",
   "metadata": {},
   "source": [
    "Like any dict of dicts, individual people/features can be accessed like so:\n",
    "**enron_data[\"LASTNAME FIRSTNAME\"][\"feature_name\"]**\n",
    "\n",
    "How many email messages do we have from Wesley Colwell to persons of interest?"
   ]
  },
  {
   "cell_type": "code",
   "execution_count": 7,
   "metadata": {
    "collapsed": false
   },
   "outputs": [
    {
     "name": "stdout",
     "output_type": "stream",
     "text": [
      "Number of email messages from Wesley Colwell to persons of interest = 11\n"
     ]
    }
   ],
   "source": [
    "for i in range(len(enron_data)):\n",
    "    #print enron_data.keys()[i]\n",
    "    if enron_data.keys()[i] == 'COLWELL WESLEY':\n",
    "        #print enron_data.values()[i]\n",
    "        from_this_person_to_poi = enron_data.values()[i]['from_this_person_to_poi']\n",
    "        print \"Number of email messages from Wesley Colwell to persons of interest = %d\" % from_this_person_to_poi"
   ]
  },
  {
   "cell_type": "markdown",
   "metadata": {},
   "source": [
    "Like any dict of dicts, individual people/features can be accessed like so:\n",
    "\n",
    "**enron_data[\"LASTNAME FIRSTNAME\"][\"feature_name\"]**\n",
    "\n",
    "or\n",
    "\n",
    "**enron_data[\"LASTNAME FIRSTNAME MIDDLEINITIAL\"][\"feature_name\"]**\n",
    "\n",
    "What’s the value of stock options exercised by Jeffrey K Skilling?"
   ]
  },
  {
   "cell_type": "code",
   "execution_count": 21,
   "metadata": {
    "collapsed": false
   },
   "outputs": [
    {
     "name": "stdout",
     "output_type": "stream",
     "text": [
      "Value of stock options exercised by Jeffrey K Skilling = $19,250,000.00\n"
     ]
    }
   ],
   "source": [
    "for i in range(len(enron_data)):\n",
    "    if enron_data.keys()[i] == 'SKILLING JEFFREY K':\n",
    "        #print enron_data.values()[i]\n",
    "        exercised_stock_options = enron_data.values()[i]['exercised_stock_options']\n",
    "        ### print \"Value of stock options exercised by Jeffrey K Skilling = %d\" % exercised_stock_options\n",
    "        print \"Value of stock options exercised by Jeffrey K Skilling = ${:,.2f}\".format(exercised_stock_options)"
   ]
  },
  {
   "cell_type": "markdown",
   "metadata": {},
   "source": [
    "Of these three individuals (Lay, Skilling and Fastow), who took home the most money (largest value of “total_payments” feature)?\n",
    "\n",
    "How much money did that person get?"
   ]
  },
  {
   "cell_type": "code",
   "execution_count": 23,
   "metadata": {
    "collapsed": false
   },
   "outputs": [
    {
     "name": "stdout",
     "output_type": "stream",
     "text": [
      " Total Payments made to Kenneth L Lay = $103,559,793.00\n",
      " Total Payments made to Andrew S Fastow = $2,424,083.00\n",
      " Total Payments made to Jeffrey K Skilling = $8,682,716.00\n"
     ]
    }
   ],
   "source": [
    "for i in range(len(enron_data)):\n",
    "    ### print enron_data.keys()[i]\n",
    "    if enron_data.keys()[i] == 'SKILLING JEFFREY K':\n",
    "        total_payments = enron_data.values()[i]['total_payments']\n",
    "        print \" Total Payments made to Jeffrey K Skilling = ${:,.2f}\" .format(total_payments)\n",
    "    if enron_data.keys()[i] == 'LAY KENNETH L':\n",
    "        total_payments1 = enron_data.values()[i]['total_payments']\n",
    "        print \" Total Payments made to Kenneth L Lay = ${:,.2f}\" .format(total_payments1)\n",
    "    if enron_data.keys()[i] == 'FASTOW ANDREW S':\n",
    "        total_payments2 = enron_data.values()[i]['total_payments']\n",
    "        print \" Total Payments made to Andrew S Fastow = ${:,.2f}\" .format(total_payments2)\n",
    "max_amount = float( max ( total_payments, total_payments1, total_payments2))"
   ]
  },
  {
   "cell_type": "markdown",
   "metadata": {},
   "source": [
    "How many folks in this dataset have a quantified salary? What about a known email address?"
   ]
  },
  {
   "cell_type": "code",
   "execution_count": 10,
   "metadata": {
    "collapsed": false
   },
   "outputs": [
    {
     "name": "stdout",
     "output_type": "stream",
     "text": [
      "Number of folks in this dataset with quantified salary = 95\n",
      "Number of folks in this dataset with an email address = 111\n"
     ]
    }
   ],
   "source": [
    "count = 0\n",
    "count_email = 0\n",
    "for i in range(len(enron_data)):\n",
    "    if enron_data.values()[i]['salary'] != 'NaN':\n",
    "        ### print enron_data.values()[i]['salary']\n",
    "        count += 1\n",
    "    if enron_data.values()[i]['email_address'] != 'NaN':\n",
    "        ### print enron_data.values()[i]['salary']\n",
    "        count_email += 1\n",
    "print \"Number of folks in this dataset with quantified salary = %d\" % count\n",
    "print \"Number of folks in this dataset with an email address = %d\" % count_email"
   ]
  },
  {
   "cell_type": "markdown",
   "metadata": {},
   "source": [
    "A python dictionary can’t be read directly into an sklearn classification or regression algorithm; instead, it needs a numpy array or a list of lists (each element of the list (itself a list) is a data point, and the elements of the smaller list are the features of that point).\n",
    "\n",
    "We’ve written some helper functions **(featureFormat()** and **targetFeatureSplit()** in tools/feature_format.py) that can take a list of feature names and the data dictionary, and return a numpy array.\n",
    "\n",
    "In the case when a feature does not have a value for a particular person, this function will also replace the feature value with 0 (zero)."
   ]
  },
  {
   "cell_type": "markdown",
   "metadata": {},
   "source": [
    "As you saw a little while ago, not every POI has an entry in the dataset (e.g. Michael Krautz). That’s because the dataset was created using the financial data you can find in final_project/enron61702insiderpay.pdf, which is missing some POI’s (those absences propagated through to the final dataset). On the other hand, for many of these “missing” POI’s, we do have emails.\n",
    "\n",
    "While it would be straightforward to add these POI’s and their email information to the E+F dataset, and just put “NaN” for their financial information, this could introduce a subtle problem. You will walk through that here.\n",
    "\n",
    "**How many people in the E+F dataset (as it currently exists) have “NaN” for their total payments? What percentage of people in the dataset as a whole is this?**"
   ]
  },
  {
   "cell_type": "code",
   "execution_count": 11,
   "metadata": {
    "collapsed": false
   },
   "outputs": [
    {
     "name": "stdout",
     "output_type": "stream",
     "text": [
      "Total number of people in enron_data = 146\n",
      "Total Payments with NaN values = 21\n",
      "Percent of total payments having NaN values =  14.38\n"
     ]
    }
   ],
   "source": [
    "from __future__ import division\n",
    "count = 0\n",
    "total_kount = len ( enron_data )\n",
    "print \"Total number of people in enron_data = %d\" % total_kount\n",
    "for i in range(len(enron_data)):\n",
    "    total_payments = enron_data.values()[i]['total_payments']\n",
    "    if total_payments == 'NaN':\n",
    "        count += 1\n",
    "print \"Total Payments with NaN values = %d\" % count\n",
    "percent = ( count / total_kount ) * 100.0\n",
    "print \"Percent of total payments having NaN values = %6.2f\" % percent "
   ]
  },
  {
   "cell_type": "markdown",
   "metadata": {},
   "source": [
    "How many POIs in the E+F dataset have “NaN” for their total payments? What percentage of POI’s as a whole is this?"
   ]
  },
  {
   "cell_type": "code",
   "execution_count": 12,
   "metadata": {
    "collapsed": false
   },
   "outputs": [
    {
     "name": "stdout",
     "output_type": "stream",
     "text": [
      "Total number of people in enron_data = 146\n",
      "POI and Total Payments with NaN values = 0\n",
      "Percent of total payments having POI and NaN values =   0.00\n"
     ]
    }
   ],
   "source": [
    "from __future__ import division\n",
    "count = 0\n",
    "total_kount = len ( enron_data )\n",
    "print \"Total number of people in enron_data = %d\" % total_kount\n",
    "for i in range(len(enron_data)):\n",
    "    total_payments = enron_data.values()[i]['total_payments']\n",
    "    poi = enron_data.values()[i]['poi']\n",
    "    if total_payments == 'NaN' and poi == 'True':\n",
    "        count += 1\n",
    "print \"POI and Total Payments with NaN values = %d\" % count\n",
    "percent = ( count / total_kount ) * 100.0\n",
    "print \"Percent of total payments having POI and NaN values = %6.2f\" % percent "
   ]
  },
  {
   "cell_type": "markdown",
   "metadata": {
    "collapsed": true
   },
   "source": [
    "If you added in, say, 10 more data points which were all POI’s, and put “NaN” for the total payments for those folks, the numbers you just calculated would change.\n",
    "\n",
    "**What is the new number of people of the dataset? What is the new number of folks with “NaN” for total payments?**"
   ]
  },
  {
   "cell_type": "code",
   "execution_count": 24,
   "metadata": {
    "collapsed": false
   },
   "outputs": [
    {
     "name": "stdout",
     "output_type": "stream",
     "text": [
      "Total number of people in enron_data = 156\n",
      "Total Payments with NaN values = 31\n",
      "Percent of total payments having NaN values =  19.87\n"
     ]
    }
   ],
   "source": [
    "### Add 10 to count and total_count variables for the question above ###\n",
    "count = 10\n",
    "total_kount = len ( enron_data ) + 10\n",
    "print \"Total number of people in enron_data = %d\" % total_kount\n",
    "for i in range(len(enron_data)):\n",
    "    total_payments = enron_data.values()[i]['total_payments']\n",
    "    if total_payments == 'NaN':\n",
    "        count += 1\n",
    "print \"Total Payments with NaN values = %d\" % count\n",
    "percent = ( count / total_kount ) * 100.0\n",
    "print \"Percent of total payments having NaN values = %6.2f\" % percent "
   ]
  },
  {
   "cell_type": "markdown",
   "metadata": {},
   "source": [
    "There are now 156 folks in dataset, 31 of whom have \"NaN\" total_payments. This makes for 20% of them with a \"NaN\" overall."
   ]
  },
  {
   "cell_type": "markdown",
   "metadata": {},
   "source": [
    "***What is the new number of POI’s in the dataset? What is the new number of POI’s with NaN for total_payments?***"
   ]
  },
  {
   "cell_type": "code",
   "execution_count": 29,
   "metadata": {
    "collapsed": false
   },
   "outputs": [
    {
     "name": "stdout",
     "output_type": "stream",
     "text": [
      "New number of POI’s in the dataset = 28\n",
      "New number of POI’s with NaN total payments in the dataset = 10\n",
      "Percent of total payments having NaN values =  35.71\n"
     ]
    }
   ],
   "source": [
    "### New number of POIs in the E+F dataset ###\n",
    "count = 10\n",
    "count_nan_total_payments = 10\n",
    "for i in range(len(enron_data)):\n",
    "    temp = enron_data.values()[i]\n",
    "    if temp['poi'] == True:\n",
    "        count = count + 1 \n",
    "    if temp['poi'] == True and temp['total_payments'] == 'NaN':\n",
    "        count_nan_total_payments += 1\n",
    "print \"New number of POI’s in the dataset = %d\" % count\n",
    "print \"New number of POI’s with NaN total payments in the dataset = %d\" % count_nan_total_payments\n",
    "percent = ( count_nan_total_payments / count ) * 100.0\n",
    "print \"Percent of total payments having NaN values = %6.2f\" % percent "
   ]
  },
  {
   "cell_type": "markdown",
   "metadata": {},
   "source": [
    "Adding in the new POI’s in this example, none of whom we have financial information for, has introduced a subtle problem, that our lack of financial information about them can be picked up by an algorithm as a clue that they’re POIs. Another way to think about this is that there’s now a difference in how we generated the data for our two classes--non-POIs all come from the financial spreadsheet, while many POIs get added in by hand afterwards. That difference can trick us into thinking we have better performance than we do--suppose you use your POI detector to decide whether a new, unseen person is a POI, and that person isn’t on the spreadsheet. Then all their financial data would contain “NaN” but the person is very likely not a POI (there are many more non-POIs than POIs in the world, and even at Enron)--you’d be likely to accidentally identify them as a POI, though!\n",
    "\n",
    "This goes to say that, when generating or augmenting a dataset, you should be exceptionally careful if your data are coming from different sources for different classes. It can easily lead to the type of bias or mistake that we showed here. There are ways to deal with this, for example, you wouldn’t have to worry about this problem if you used only email data--in that case, discrepancies in the financial data wouldn’t matter because financial features aren’t being used. There are also more sophisticated ways of estimating how much of an effect these biases can have on your final answer; those are beyond the scope of this course.\n",
    "\n",
    "For now, the takeaway message is to be very careful about introducing features that come from different sources depending on the class! It’s a classic way to accidentally introduce biases and mistakes."
   ]
  }
 ],
 "metadata": {
  "kernelspec": {
   "display_name": "Python 2",
   "language": "python",
   "name": "python2"
  },
  "language_info": {
   "codemirror_mode": {
    "name": "ipython",
    "version": 2
   },
   "file_extension": ".py",
   "mimetype": "text/x-python",
   "name": "python",
   "nbconvert_exporter": "python",
   "pygments_lexer": "ipython2",
   "version": "2.7.12+"
  }
 },
 "nbformat": 4,
 "nbformat_minor": 2
}
